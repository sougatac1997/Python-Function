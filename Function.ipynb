{
  "nbformat": 4,
  "nbformat_minor": 0,
  "metadata": {
    "colab": {
      "provenance": []
    },
    "kernelspec": {
      "name": "python3",
      "display_name": "Python 3"
    },
    "language_info": {
      "name": "python"
    }
  },
  "cells": [
    {
      "cell_type": "markdown",
      "source": [
        "\n",
        "#Theory\n",
        "What is the difference between a function and a method in Python?\n",
        "\n",
        "A function is a block of code that performs a specific task, and it can be defined independently of objects or classes. It is called using its name and can accept parameters.\n",
        "A method is a function that is associated with an object or class. It is bound to an object and is called using the object or class. A method always takes at least one argument (usually self for instance methods) that refers to the object itself."
      ],
      "metadata": {
        "id": "dnLPK61BCxE7"
      }
    },
    {
      "cell_type": "markdown",
      "source": [
        "Explain the concept of function arguments and parameters in Python.\n",
        "\n",
        "Parameters are the variables that are listed in the function definition. They act as placeholders for the values that will be passed to the function when it is called.\n",
        "Arguments are the actual values passed to the function when it is called, which are assigned to the corresponding parameters."
      ],
      "metadata": {
        "id": "dHkuwl1DDd9R"
      }
    },
    {
      "cell_type": "markdown",
      "source": [
        "What are the different ways to define and call a function in Python?\n",
        "\n",
        "A function can be defined using the def keyword:\n",
        "    \n",
        "    def my_function():\n",
        "\n",
        "A function can also be defined as a lambda function (an anonymous function) using the lambda keyword:\n",
        "\n",
        "    my_function = lambda x: x * 2\n",
        "\n",
        "To call a function, you simply use its name followed by parentheses:\n",
        "\n",
        "    my_function()\n",
        "\n",
        "\n"
      ],
      "metadata": {
        "id": "DfJQyplcDlZe"
      }
    },
    {
      "cell_type": "markdown",
      "source": [
        "What is the purpose of the return statement in a Python function?\n",
        "\n",
        "The return statement is used to send a result back to the caller of the function. It terminates the function and optionally returns a value. If no return statement is used, the function returns None by default.\n",
        "\n",
        "    def add(a, b):\n",
        "    return a + b"
      ],
      "metadata": {
        "id": "f_fRuZqJfamL"
      }
    },
    {
      "cell_type": "markdown",
      "source": [
        "What are iterators in Python and how do they differ from iterables?\n",
        "\n",
        "An iterable is any Python object capable of returning its members one at a time, permitting it to be iterated over in a for loop. Common examples include lists, tuples, and strings.\n",
        "An iterator is an object that implements the __iter__() and __next__() methods, allowing it to traverse through all the items in an iterable one by one. It is the mechanism that allows you to iterate over an iterable."
      ],
      "metadata": {
        "id": "E7HITv4wfiw6"
      }
    },
    {
      "cell_type": "markdown",
      "source": [
        "Explain the concept of generators in Python and how they are defined.\n",
        "\n",
        "A generator is a special type of iterator that is defined using a function with the yield keyword. Generators produce values lazily, meaning they compute values one at a time as needed, which makes them more memory efficient for large datasets.\n",
        "\n",
        "    def my_generator():\n",
        "    yield 1\n",
        "    yield 2\n",
        "    yield 3"
      ],
      "metadata": {
        "id": "uc8Ui098foOZ"
      }
    },
    {
      "cell_type": "markdown",
      "source": [
        "What are the advantages of using generators over regular functions?\n",
        "\n",
        "Memory efficiency: Generators yield one item at a time, so they don't store the entire result in memory, which is beneficial for large datasets.\n",
        "Lazy evaluation: Generators compute values on demand, which can lead to faster execution when only part of the data is needed.\n",
        "State persistence: A generator retains its state between yield calls, so it can continue from where it left off without needing to re-execute the function."
      ],
      "metadata": {
        "id": "Ojow-glvfwo5"
      }
    },
    {
      "cell_type": "markdown",
      "source": [
        "What is a lambda function in Python and when is it typically used?\n",
        "\n",
        "A lambda function is an anonymous, short function defined using the lambda keyword. It can take any number of arguments but only has one expression. Lambda functions are commonly used in places where a simple function is needed temporarily, like in map(), filter(), and sorted() functions.\n",
        "\n",
        "    add = lambda x, y: x + y"
      ],
      "metadata": {
        "id": "-utn6hiuf1H7"
      }
    },
    {
      "cell_type": "markdown",
      "source": [
        "Explain the purpose and usage of the map() function in Python.\n",
        "\n",
        "The map() function applies a given function to all items in an iterable (such as a list) and returns an iterator that produces the results. It is often used for applying transformations to the data in an iterable.\n",
        "\n",
        "    numbers = [1, 2, 3]\n",
        "    squared = map(lambda x: x ** 2, numbers)\n",
        "    print(list(squared))  # Output: [1, 4, 9]"
      ],
      "metadata": {
        "id": "27kjAQuff-qp"
      }
    },
    {
      "cell_type": "markdown",
      "source": [],
      "metadata": {
        "id": "ToWVOQ16f4cO"
      }
    },
    {
      "cell_type": "markdown",
      "source": [
        "What is the difference between map(), reduce(), and filter() functions in Python?\n",
        "\n",
        "map(): Applies a function to all items in an iterable and returns an iterator of the results. Example: map(function, iterable)\n",
        "\n",
        "reduce(): Reduces an iterable to a single value by applying a binary function (a function that takes two arguments) cumulatively across the iterable. It is available in the functools module. Example: reduce(function, iterable)\n",
        "\n",
        "filter(): Filters an iterable based on a function that returns True or False for each item, and returns an iterator containing only the items that evaluate to True. Example: filter(function, iterable)"
      ],
      "metadata": {
        "id": "s9dWP_tFgZK8"
      }
    },
    {
      "cell_type": "markdown",
      "source": [
        "#Practical\n",
        "\n",
        "1. **Write a Python function that takes a list of numbers as input and returns the sum of all even numbers in the list.**\n",
        "\n",
        "   ```python\n",
        "   def sum_of_even_numbers(numbers):\n",
        "       return sum(num for num in numbers if num % 2 == 0)\n",
        "   \n",
        "   # Example usage:\n",
        "   numbers = [1, 2, 3, 4, 5, 6]\n",
        "   result = sum_of_even_numbers(numbers)\n",
        "   print(result)  # Output: 12 (2 + 4 + 6)\n",
        "   ```\n",
        "\n",
        "2. **Create a Python function that accepts a string and returns the reverse of that string.**\n",
        "\n",
        "   ```python\n",
        "   def reverse_string(s):\n",
        "       return s[::-1]\n",
        "   \n",
        "   # Example usage:\n",
        "   string = \"hello\"\n",
        "   reversed_string = reverse_string(string)\n",
        "   print(reversed_string)  # Output: \"olleh\"\n",
        "   ```\n",
        "\n",
        "3. **Implement a Python function that takes a list of integers and returns a new list containing the squares of each number.**\n",
        "\n",
        "   ```python\n",
        "   def square_numbers(numbers):\n",
        "       return [num ** 2 for num in numbers]\n",
        "   \n",
        "   # Example usage:\n",
        "   numbers = [1, 2, 3, 4]\n",
        "   squared_numbers = square_numbers(numbers)\n",
        "   print(squared_numbers)  # Output: [1, 4, 9, 16]\n",
        "   ```\n",
        "\n",
        "4. **Write a Python function that checks if a given number is prime or not from 1 to 200.**\n",
        "\n",
        "   ```python\n",
        "   def is_prime(n):\n",
        "       if n <= 1:\n",
        "           return False\n",
        "       for i in range(2, int(n ** 0.5) + 1):\n",
        "           if n % i == 0:\n",
        "               return False\n",
        "       return True\n",
        "   \n",
        "   # Example usage:\n",
        "   print(is_prime(29))  # Output: True\n",
        "   print(is_prime(30))  # Output: False\n",
        "   ```\n",
        "\n",
        "5. **Create an iterator class in Python that generates the Fibonacci sequence up to a specified number of terms.**\n",
        "\n",
        "   ```python\n",
        "   class FibonacciIterator:\n",
        "       def __init__(self, terms):\n",
        "           self.terms = terms\n",
        "           self.a, self.b = 0, 1\n",
        "           self.count = 0\n",
        "\n",
        "       def __iter__(self):\n",
        "           return self\n",
        "\n",
        "       def __next__(self):\n",
        "           if self.count >= self.terms:\n",
        "               raise StopIteration\n",
        "           self.count += 1\n",
        "           self.a, self.b = self.b, self.a + self.b\n",
        "           return self.a\n",
        "   \n",
        "   # Example usage:\n",
        "   fib = FibonacciIterator(5)\n",
        "   for num in fib:\n",
        "       print(num)  # Output: 1 1 2 3 5\n",
        "   ```\n",
        "\n",
        "6. **Write a generator function in Python that yields the powers of 2 up to a given exponent.**\n",
        "\n",
        "   ```python\n",
        "   def powers_of_two(exponent):\n",
        "       for i in range(exponent + 1):\n",
        "           yield 2 ** i\n",
        "   \n",
        "   # Example usage:\n",
        "   for power in powers_of_two(5):\n",
        "       print(power)  # Output: 1 2 4 8 16 32\n",
        "   ```\n",
        "\n",
        "7. **Implement a generator function that reads a file line by line and yields each line as a string.**\n",
        "\n",
        "   ```python\n",
        "   def read_file_line_by_line(file_path):\n",
        "       with open(file_path, 'r') as file:\n",
        "           for line in file:\n",
        "               yield line.strip()\n",
        "   \n",
        "   # Example usage:\n",
        "   # Assume 'file.txt' contains several lines of text\n",
        "   for line in read_file_line_by_line('file.txt'):\n",
        "       print(line)\n",
        "   ```\n",
        "\n",
        "8. **Use a lambda function in Python to sort a list of tuples based on the second element of each tuple.**\n",
        "\n",
        "   ```python\n",
        "   data = [(1, 3), (2, 1), (4, 2)]\n",
        "   sorted_data = sorted(data, key=lambda x: x[1])\n",
        "   print(sorted_data)  # Output: [(2, 1), (4, 2), (1, 3)]\n",
        "   ```\n",
        "\n",
        "9. **Write a Python program that uses `map()` to convert a list of temperatures from Celsius to Fahrenheit.**\n",
        "\n",
        "   ```python\n",
        "   def celsius_to_fahrenheit(celsius):\n",
        "       return (celsius * 9/5) + 32\n",
        "   \n",
        "   celsius_temps = [0, 20, 30, 40]\n",
        "   fahrenheit_temps = list(map(celsius_to_fahrenheit, celsius_temps))\n",
        "   print(fahrenheit_temps)  # Output: [32.0, 68.0, 86.0, 104.0]\n",
        "   ```\n",
        "\n",
        "10. **Create a Python program that uses `filter()` to remove all the vowels from a given string.**\n",
        "\n",
        "   ```python\n",
        "   def remove_vowels(s):\n",
        "       vowels = \"aeiouAEIOU\"\n",
        "       return ''.join(filter(lambda x: x not in vowels, s))\n",
        "   \n",
        "   # Example usage:\n",
        "   string = \"hello world\"\n",
        "   result = remove_vowels(string)\n",
        "   print(result)  # Output: \"hll wrld\"\n",
        "   ```"
      ],
      "metadata": {
        "id": "mVx_dM5NhYOP"
      }
    }
  ]
}